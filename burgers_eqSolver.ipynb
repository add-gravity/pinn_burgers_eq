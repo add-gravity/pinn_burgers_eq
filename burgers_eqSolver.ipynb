{
 "cells": [
  {
   "cell_type": "code",
   "execution_count": 2,
   "metadata": {},
   "outputs": [],
   "source": [
    "import tensorflow as tf\n",
    "import numpy as np\n",
    "import matplotlib as plt\n",
    "import scipy.io\n",
    "import time\n",
    "from pyDOE import lhs\n",
    "import tensorflow_probability as tfp\n",
    "from tensorflow.keras import layers\n",
    "from tensorflow.keras import Sequential\n",
    "from tensorflow.keras.layers import Flatten, Dense\n",
    "\n"
   ]
  },
  {
   "cell_type": "code",
   "execution_count": null,
   "metadata": {},
   "outputs": [],
   "source": [
    "\n",
    "data = scipy.io.loadmat('C:/Users/Daksh/Desktop/pinn/burgers_shock.mat')\n",
    "    "
   ]
  },
  {
   "cell_type": "code",
   "execution_count": null,
   "metadata": {},
   "outputs": [],
   "source": [
    "\n",
    "N_u = 100                    # number of data points\n",
    "N_f = 10000                  # number of points where the differential equation must be satisfied\n",
    "\n",
    "data = scipy.io.loadmat('burgers_equation.mat')                     # load Burgers equation dataset from matlab file\n",
    "t = data['t'].flatten()[:, None].astype('float32')                  # time discretization points\n",
    "x = data['x'].flatten()[:, None].astype('float32')                  # spatial(x) discretization points\n",
    "exact_sol = np.real(data['usol']).T.astype('float32')               # exact solution\n",
    "\n",
    "X, T = np.meshgrid(x, t)                                            # create a mesh from data coordinates x,t\n",
    "\n"
   ]
  },
  {
   "cell_type": "code",
   "execution_count": null,
   "metadata": {},
   "outputs": [],
   "source": [
    "X_domain = np.hstack((X.flatten()[:, None], T.flatten()[:, None]))  # includes spatial in col 1 and then time coordinates col 2\n",
    "u_domain = exact_sol.flatten()[:, None]"
   ]
  },
  {
   "cell_type": "code",
   "execution_count": null,
   "metadata": {},
   "outputs": [],
   "source": [
    "# Domain bounds\n",
    "lb = X_domain.min(0)\n",
    "ub = X_domain.max(0)"
   ]
  },
  {
   "cell_type": "code",
   "execution_count": null,
   "metadata": {},
   "outputs": [],
   "source": [
    "xx1 = np.hstack((X[0:1, :].T, T[0:1, :].T)) # I.C.\n",
    "uu1 = exact_sol[0:1, :].T                   # u solution for the selected points at diff. conditions as mentioned\n",
    "xx2 = np.hstack((X[:, 0:1], T[:, 0:1]))  # L.B.C. i.e. at x = -1\n",
    "uu2 = exact_sol[:, 0:1]\n",
    "xx3 = np.hstack((X[:, -1:], T[:, -1:])) # R.B.C. i.e. at x = +1\n",
    "uu3 = exact_sol[:, -1:]\n",
    "\n",
    "X_u_train = np.vstack([xx1, xx2, xx3])      # Total # of final coordinates (x,t) for the training points\n",
    "X_f_train = lb + (ub - lb) * lhs(2, N_f)    # coordinates (x,t) of the points to satisfy the differential equation\n",
    "X_f_train = tf.convert_to_tensor(np.vstack((X_f_train, X_u_train)).astype('float32'))\n",
    "u_train = np.vstack([uu1, uu2, uu3])        # the solution of the training points\n",
    "\n",
    "# reducing our dataset by randomly selecting N_u points \n",
    "index = np.random.choice(X_u_train.shape[0], N_u, replace=False)\n",
    "X_u_train = tf.convert_to_tensor(X_u_train[index, :].astype('float32'))\n",
    "u_train = tf.convert_to_tensor(u_train[index, :].astype('float32'))\n",
    "\n",
    "# splittling spatial and time coordinates\n",
    "x_u = X_u_train[:, 0:1]\n",
    "t_u = X_u_train[:, 1:2]\n",
    "x_f = X_f_train[:, 0:1]\n",
    "t_f = X_f_train[:, 1:2]"
   ]
  },
  {
   "cell_type": "code",
   "execution_count": null,
   "metadata": {},
   "outputs": [],
   "source": []
  },
  {
   "cell_type": "code",
   "execution_count": null,
   "metadata": {},
   "outputs": [],
   "source": [
    "# for model u\n",
    "\n",
    "layers = [2, 20, 20, 20, 20, 20, 20, 20, 20, 1]\n",
    "\n",
    "model = Sequential()\n",
    "\n",
    "h = 2.0 * ( tf.concat([x,t], 1) - lb) / ( ub - lb )  - 1.0\n",
    "\n",
    "model.add(Dense(layers[0], activation = tf.nn.tanh, input_shape = _))\n",
    "\n",
    "for l in layers[1:9]:\n",
    "    model.add(Dense(20, activation = tf.nn.tanh))\n",
    "    \n",
    "model.add(Dense( layers[-1]), activation = None)\n",
    "\n",
    "\n",
    "#def net_u():\n",
    "    \n",
    "    \n",
    "    \n"
   ]
  },
  {
   "cell_type": "code",
   "execution_count": null,
   "metadata": {},
   "outputs": [],
   "source": [
    "def residual(model_u, x, t):\n",
    "    with tf.GradientTape() as gtp1:\n",
    "        gtp1.watch(x)\n",
    "        with tf.GradientTape(persistent=True) as gtp2:\n",
    "            gtp2.watch(x)\n",
    "            gtp2.watch(t)\n",
    "            u = model_u(x, t)\n",
    "        du_dt = gtp2.gradient(u, t)\n",
    "        du_dx = gtp2.gradient(u, x)\n",
    "    du2_dx2 = tape1.gradient(du_dx, x)\n",
    "    coefficient = 0.01 / np.pi\n",
    "    f = du_dt + u * du_dx - coefficient * du2_dx2   # residual\n",
    "    del gtp2\n",
    "    return f"
   ]
  },
  {
   "cell_type": "code",
   "execution_count": null,
   "metadata": {},
   "outputs": [],
   "source": [
    "loss = tf.reduce_mean(tf.square(u_tf - u_pred)) + \\\n",
    "        tf.reduce_mean(tf.square(f_pred))\n",
    "\n"
   ]
  },
  {
   "cell_type": "code",
   "execution_count": null,
   "metadata": {},
   "outputs": [],
   "source": [
    "model.compile(optimizer = 'adam', loss = '', metrics = ['accuracy'])"
   ]
  },
  {
   "cell_type": "code",
   "execution_count": null,
   "metadata": {},
   "outputs": [],
   "source": []
  },
  {
   "cell_type": "code",
   "execution_count": null,
   "metadata": {},
   "outputs": [],
   "source": [
    "model.fit(   ,     , epochs = 600, batch_size = 50, validation split = 0.05)"
   ]
  },
  {
   "cell_type": "code",
   "execution_count": null,
   "metadata": {},
   "outputs": [],
   "source": []
  }
 ],
 "metadata": {
  "kernelspec": {
   "display_name": "Python 3",
   "language": "python",
   "name": "python3"
  },
  "language_info": {
   "codemirror_mode": {
    "name": "ipython",
    "version": 3
   },
   "file_extension": ".py",
   "mimetype": "text/x-python",
   "name": "python",
   "nbconvert_exporter": "python",
   "pygments_lexer": "ipython3",
   "version": "3.7.9"
  }
 },
 "nbformat": 4,
 "nbformat_minor": 4
}
